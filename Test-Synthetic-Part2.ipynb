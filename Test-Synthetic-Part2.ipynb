{
 "cells": [
  {
   "cell_type": "markdown",
   "metadata": {},
   "source": [
    "1. Import Libraries"
   ]
  },
  {
   "cell_type": "code",
   "execution_count": 1,
   "metadata": {},
   "outputs": [],
   "source": [
    "from PIL import Image, ImageFont, ImageDraw, Image"
   ]
  },
  {
   "cell_type": "code",
   "execution_count": 2,
   "metadata": {},
   "outputs": [],
   "source": [
    "import random"
   ]
  },
  {
   "cell_type": "code",
   "execution_count": 3,
   "metadata": {},
   "outputs": [],
   "source": [
    "import os"
   ]
  },
  {
   "cell_type": "code",
   "execution_count": 4,
   "metadata": {},
   "outputs": [],
   "source": [
    "import pandas as pd"
   ]
  },
  {
   "cell_type": "code",
   "execution_count": 5,
   "metadata": {},
   "outputs": [],
   "source": [
    "global currentWeight"
   ]
  },
  {
   "cell_type": "markdown",
   "metadata": {},
   "source": [
    "2. Create Random Scale"
   ]
  },
  {
   "cell_type": "code",
   "execution_count": 6,
   "metadata": {},
   "outputs": [],
   "source": [
    "def createRandomScaleImage():\n",
    "    #Creates a random scale image\n",
    "    image = Image.open('test2.jpg')\n",
    "    draw = ImageDraw.Draw(image)\n",
    "    fontsize = 1 \n",
    "    txt = random.uniform(40.00, 110.00)\n",
    "    txt = round(txt,2)\n",
    "    txt = ('%.2f' %txt) \n",
    "    global currentWeight\n",
    "    currentWeight = txt\n",
    "    # portion of image width you want text width to be\n",
    "    img_fraction = 0.50\n",
    "    font = ImageFont.truetype(\"DS-DIGI.ttf\", fontsize)\n",
    "    while font.getsize(txt)[0] < img_fraction*image.size[0]:\n",
    "        # iterate until the text size is just larger than the criteria\n",
    "        fontsize += 1\n",
    "        font = ImageFont.truetype(\"DS-DIGI.ttf\", fontsize)\n",
    "    # optionally de-increment to be sure it is less than criteria\n",
    "    fontsize += 20\n",
    "    font = ImageFont.truetype(\"DS-DIGI.ttf\", fontsize)\n",
    "    #print ('final font size',fontsize)\n",
    "    draw.text((30, 12), txt, font=font, fill='black')\n",
    "    return image"
   ]
  },
  {
   "cell_type": "code",
   "execution_count": 8,
   "metadata": {},
   "outputs": [],
   "source": [
    "#testing the mehod\n",
    "scaleImage = createRandomScaleImage()\n",
    "scaleImage.show()"
   ]
  },
  {
   "cell_type": "markdown",
   "metadata": {},
   "source": [
    "3. Create Background Image"
   ]
  },
  {
   "cell_type": "code",
   "execution_count": 9,
   "metadata": {},
   "outputs": [],
   "source": [
    "def createMainImage(backgrImg):\n",
    "    scaleImage = createRandomScaleImage()\n",
    "    img_w, img_h = scaleImage.size #taking dimensions of image\n",
    "    background = Image.open(backgrImg)\n",
    "    bg_w, bg_h = background.size\n",
    "    offset = ((bg_w - img_w) // 2, ((bg_h - img_h) //+20) )\n",
    "    background.paste(scaleImage, offset)\n",
    "    return background"
   ]
  },
  {
   "cell_type": "code",
   "execution_count": 10,
   "metadata": {},
   "outputs": [],
   "source": [
    "def findWeight_category(weight):\n",
    "    weight = float(weight)\n",
    "    if 40<= weight<45:\n",
    "        return '40-45'\n",
    "    elif 45<= weight<50:\n",
    "        return '45-50'\n",
    "    elif 50<= weight<55:\n",
    "        return '50-55'\n",
    "    elif 55<= weight<60:\n",
    "        return '55-60'\n",
    "    elif 60 <= weight<65:\n",
    "        return '60-65'\n",
    "    elif 65 <= weight<70:\n",
    "        return '65-70'\n",
    "    elif 70 <= weight<75:\n",
    "        return '70-75'\n",
    "    elif 75 <= weight<80:\n",
    "        return '75-80'\n",
    "    elif 80<= weight<85:\n",
    "        return '80-85'\n",
    "    elif 85<= weight<90:\n",
    "        return '85-90'\n",
    "    elif 90<= weight<95:\n",
    "        return '90-95'\n",
    "    elif 95<= weight<100:\n",
    "        return '95-100'\n",
    "    elif 100<= weight<105:\n",
    "        return '100-105'\n",
    "    elif 105<= weight<110:\n",
    "        return '105-110'\n",
    "    elif 110<= weight<115:\n",
    "        return '110-115'"
   ]
  },
  {
   "cell_type": "code",
   "execution_count": 11,
   "metadata": {},
   "outputs": [
    {
     "data": {
      "text/plain": [
       "'105-110'"
      ]
     },
     "execution_count": 11,
     "metadata": {},
     "output_type": "execute_result"
    }
   ],
   "source": [
    "#testing the method\n",
    "#background = createMainImage('backgr.jpg')\n",
    "#background.show()\n",
    "\n",
    "weight = 105.14\n",
    "category = findWeight_category(str(weight))\n",
    "category"
   ]
  },
  {
   "cell_type": "markdown",
   "metadata": {},
   "source": [
    "4. Create Dataframe for creation of Index"
   ]
  },
  {
   "cell_type": "code",
   "execution_count": 12,
   "metadata": {},
   "outputs": [],
   "source": [
    "#Creating the Dataframes\n",
    "# Creating an empty Dataframe with column names only\n",
    "dfObj = pd.DataFrame(columns=['Index', 'Weight', 'Weight-Category', 'Type'])"
   ]
  },
  {
   "cell_type": "markdown",
   "metadata": {},
   "source": [
    "5. Generate Random Images and store indexes in dataframe"
   ]
  },
  {
   "cell_type": "code",
   "execution_count": 13,
   "metadata": {},
   "outputs": [],
   "source": [
    "i = 1\n",
    "\n",
    "for f in os.listdir('C:/Users/Proph3t/Desktop/MyDA/Practicums/Code/bedroom'):\n",
    "    if f.lower().endswith('.jpg') or f.lower().endswith('jpeg') or f.lower().endswith('.png'):\n",
    "        #print(f)\n",
    "        backgroundImg = 'C:/Users/Proph3t/Desktop/MyDA/Practicums/Code/bedroom/' + f\n",
    "        #backgroundImg\n",
    "        tempImage = createMainImage(backgroundImg)\n",
    "        \n",
    "        finalImage = tempImage \n",
    "        imageIndex = 'synImage' + str(i)\n",
    "        weightCategory = findWeight_category(currentWeight)\n",
    "        weightCategory\n",
    "        finalImage.save('bedroompngs/'+ imageIndex +'.png')\n",
    "        dfObj = dfObj.append({'Index': imageIndex, 'Weight': currentWeight, 'Weight-Category': weightCategory, 'Type': 'Digital'}, ignore_index=True)\n",
    "        \n",
    "        i=i+1\n",
    "\n"
   ]
  },
  {
   "cell_type": "code",
   "execution_count": 14,
   "metadata": {},
   "outputs": [
    {
     "name": "stdout",
     "output_type": "stream",
     "text": [
      "             Index  Weight Weight-Category     Type\n",
      "0        synImage1   72.54           70-75  Digital\n",
      "1        synImage2   59.98           55-60  Digital\n",
      "2        synImage3   85.89           85-90  Digital\n",
      "3        synImage4   45.97           45-50  Digital\n",
      "4        synImage5   75.85           75-80  Digital\n",
      "5        synImage6   97.21          95-100  Digital\n",
      "6        synImage7   78.16           75-80  Digital\n",
      "7        synImage8   74.67           70-75  Digital\n",
      "8        synImage9   89.30           85-90  Digital\n",
      "9       synImage10   67.08           65-70  Digital\n",
      "10      synImage11   98.14          95-100  Digital\n",
      "11      synImage12   56.14           55-60  Digital\n",
      "12      synImage13   85.69           85-90  Digital\n",
      "13      synImage14   98.77          95-100  Digital\n",
      "14      synImage15   76.55           75-80  Digital\n",
      "15      synImage16   58.12           55-60  Digital\n",
      "16      synImage17   47.20           45-50  Digital\n",
      "17      synImage18   97.49          95-100  Digital\n",
      "18      synImage19  108.23         105-110  Digital\n",
      "19      synImage20   41.26           40-45  Digital\n",
      "20      synImage21   97.51          95-100  Digital\n",
      "21      synImage22   78.58           75-80  Digital\n",
      "22      synImage23   51.82           50-55  Digital\n",
      "23      synImage24  105.42         105-110  Digital\n",
      "24      synImage25   60.59           60-65  Digital\n",
      "25      synImage26  102.53         100-105  Digital\n",
      "26      synImage27   59.33           55-60  Digital\n",
      "27      synImage28  101.91         100-105  Digital\n",
      "28      synImage29   85.38           85-90  Digital\n",
      "29      synImage30   90.32           90-95  Digital\n",
      "...            ...     ...             ...      ...\n",
      "4198  synImage4199   98.73          95-100  Digital\n",
      "4199  synImage4200   55.78           55-60  Digital\n",
      "4200  synImage4201   65.76           65-70  Digital\n",
      "4201  synImage4202   90.55           90-95  Digital\n",
      "4202  synImage4203   66.36           65-70  Digital\n",
      "4203  synImage4204   66.69           65-70  Digital\n",
      "4204  synImage4205   68.93           65-70  Digital\n",
      "4205  synImage4206   69.64           65-70  Digital\n",
      "4206  synImage4207   74.69           70-75  Digital\n",
      "4207  synImage4208   56.62           55-60  Digital\n",
      "4208  synImage4209   88.30           85-90  Digital\n",
      "4209  synImage4210   67.71           65-70  Digital\n",
      "4210  synImage4211   41.93           40-45  Digital\n",
      "4211  synImage4212  107.23         105-110  Digital\n",
      "4212  synImage4213   83.89           80-85  Digital\n",
      "4213  synImage4214   50.17           50-55  Digital\n",
      "4214  synImage4215   85.58           85-90  Digital\n",
      "4215  synImage4216   96.89          95-100  Digital\n",
      "4216  synImage4217   93.09           90-95  Digital\n",
      "4217  synImage4218   90.14           90-95  Digital\n",
      "4218  synImage4219   85.99           85-90  Digital\n",
      "4219  synImage4220   86.73           85-90  Digital\n",
      "4220  synImage4221   46.34           45-50  Digital\n",
      "4221  synImage4222   92.83           90-95  Digital\n",
      "4222  synImage4223  103.17         100-105  Digital\n",
      "4223  synImage4224   99.10          95-100  Digital\n",
      "4224  synImage4225   55.62           55-60  Digital\n",
      "4225  synImage4226   54.15           50-55  Digital\n",
      "4226  synImage4227   61.30           60-65  Digital\n",
      "4227  synImage4228   94.51           90-95  Digital\n",
      "\n",
      "[4228 rows x 4 columns]\n"
     ]
    }
   ],
   "source": [
    "print(dfObj)"
   ]
  },
  {
   "cell_type": "markdown",
   "metadata": {},
   "source": [
    "6. Export the index to a csv File"
   ]
  },
  {
   "cell_type": "code",
   "execution_count": 15,
   "metadata": {},
   "outputs": [],
   "source": [
    "export_csv = dfObj.to_csv (r'C:\\Users\\Proph3t\\Desktop\\MyDA\\Practicums\\Code\\indexBedroom.csv', index = None, header=True) #Don't forget to add '.csv' at the end of the path"
   ]
  },
  {
   "cell_type": "code",
   "execution_count": null,
   "metadata": {},
   "outputs": [],
   "source": [
    "#font = ImageFont.truetype(\"DS-DIGI.ttf\", 16)"
   ]
  },
  {
   "cell_type": "code",
   "execution_count": null,
   "metadata": {},
   "outputs": [],
   "source": [
    "#draw.text((0, 0),\"Sample Text\",(255,255,255),font=font)"
   ]
  },
  {
   "cell_type": "code",
   "execution_count": null,
   "metadata": {},
   "outputs": [],
   "source": [
    "#image.show()"
   ]
  },
  {
   "cell_type": "code",
   "execution_count": null,
   "metadata": {},
   "outputs": [],
   "source": [
    "#rand1 = random.uniform(40.00, 110.00)\n",
    "#rand1 = round(rand1,2)\n",
    "#rand1 = ('%.2f' %rand1) \n",
    "#rand1"
   ]
  },
  {
   "cell_type": "code",
   "execution_count": null,
   "metadata": {},
   "outputs": [],
   "source": []
  },
  {
   "cell_type": "code",
   "execution_count": null,
   "metadata": {},
   "outputs": [],
   "source": [
    "import random"
   ]
  },
  {
   "cell_type": "code",
   "execution_count": null,
   "metadata": {},
   "outputs": [],
   "source": []
  }
 ],
 "metadata": {
  "kernelspec": {
   "display_name": "Python 3",
   "language": "python",
   "name": "python3"
  },
  "language_info": {
   "codemirror_mode": {
    "name": "ipython",
    "version": 3
   },
   "file_extension": ".py",
   "mimetype": "text/x-python",
   "name": "python",
   "nbconvert_exporter": "python",
   "pygments_lexer": "ipython3",
   "version": "3.7.1"
  }
 },
 "nbformat": 4,
 "nbformat_minor": 2
}
